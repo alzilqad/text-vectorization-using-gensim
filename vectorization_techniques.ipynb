{
 "cells": [
  {
   "cell_type": "markdown",
   "metadata": {},
   "source": [
    "## Import Packages"
   ]
  },
  {
   "cell_type": "code",
   "execution_count": 695,
   "metadata": {},
   "outputs": [],
   "source": [
    "import gensim\n",
    "from gensim.models import Word2Vec, FastText, TfidfModel\n",
    "from gensim.models.doc2vec import Doc2Vec, TaggedDocument\n",
    "from gensim.corpora import Dictionary\n",
    "from gensim.utils import simple_preprocess\n",
    "import pandas as pd"
   ]
  },
  {
   "cell_type": "markdown",
   "metadata": {},
   "source": [
    "## Dataset"
   ]
  },
  {
   "cell_type": "code",
   "execution_count": 481,
   "metadata": {},
   "outputs": [],
   "source": [
    "sequence = [\"SNSTRLPEASQAHVRVSPGQAAPAMARPRRSRH\", \"HSTRQKSPEIHRRIDISPSTLRKHTRLAGEERV\", \n",
    "            \"GRSPSLQPTRTSSESIYSRPGSSIPGSPGHTIY\", \"NSSSPQSSAGGKPAMSYASALRAPPKPRPPPEQ\"]"
   ]
  },
  {
   "cell_type": "markdown",
   "metadata": {},
   "source": [
    "## Word2Vec Vectorization Technique"
   ]
  },
  {
   "cell_type": "code",
   "execution_count": 600,
   "metadata": {},
   "outputs": [],
   "source": [
    "def word2vec(data, win=1, count=1):\n",
    "#     model = gensim.models.Word2Vec(window=win, min_count=count, workers=4)\n",
    "#     model.build_vocab(data)\n",
    "#     model.train(data, total_examples=model.corpus_count, epochs=model.epochs)\n",
    "\n",
    "    model = Word2Vec(data, window=win, min_count=count, workers=4)\n",
    "    return model"
   ]
  },
  {
   "cell_type": "markdown",
   "metadata": {},
   "source": [
    "## FastText Vectorization Technique"
   ]
  },
  {
   "cell_type": "code",
   "execution_count": 601,
   "metadata": {},
   "outputs": [],
   "source": [
    "def fasttext(data, vector=4, win=1, count=1):\n",
    "#     model = FastText(vector_size=vector, window=win, min_count=count)\n",
    "#     model.build_vocab(sentences=data)\n",
    "#     model.train(sentences=data, total_examples=len(data), epochs=10)\n",
    "\n",
    "    model = FastText(window=win, min_count=count, sentences=data, epochs=10)\n",
    "    return model"
   ]
  },
  {
   "cell_type": "markdown",
   "metadata": {},
   "source": [
    "## Doc2Vec Vectorization Technique"
   ]
  },
  {
   "cell_type": "code",
   "execution_count": 602,
   "metadata": {},
   "outputs": [],
   "source": [
    "def doc2vec(data, vector=4, win=1, count=1):\n",
    "    documents = [TaggedDocument(doc, [i]) for i, doc in enumerate(data)]\n",
    "    model = Doc2Vec(documents, window=win, min_count=1, workers=count)\n",
    "    return model"
   ]
  },
  {
   "cell_type": "markdown",
   "metadata": {},
   "source": [
    "## Vectorization the model data"
   ]
  },
  {
   "cell_type": "code",
   "execution_count": 547,
   "metadata": {},
   "outputs": [],
   "source": [
    "def vectorization(model, column_list=[]):\n",
    "    df = pd.DataFrame(columns = column_list)\n",
    "    for i in sorted(column_list):\n",
    "        row = model.wv.most_similar(i)\n",
    "        key = [list(j)[0] for j in sorted(row)]\n",
    "        value = [list(j)[1] for j in sorted(row)]\n",
    "        df1 = pd.DataFrame([value], columns = key, index=[i])\n",
    "        df1[i] = 1\n",
    "        df = pd.concat([df,df1], axis = 'index')\n",
    "    return df"
   ]
  },
  {
   "cell_type": "markdown",
   "metadata": {},
   "source": [
    "## n Letter Combination"
   ]
  },
  {
   "cell_type": "code",
   "execution_count": 548,
   "metadata": {},
   "outputs": [],
   "source": [
    "# words.append([char for word in sequence for char in word])\n",
    "\n",
    "def combination_sequence(n=1):\n",
    "    words = []\n",
    "    columns = []\n",
    "    for word in sequence:\n",
    "        words.append([word[i:i+n] for i in range(0, len(word)) if(len(word[i:i+n])>=n)])\n",
    "        columns+=[word[i:i+n] for i in range(0, len(word)) if(len(word[i:i+n])>=n)]\n",
    "    \n",
    "    columns = sorted(list(set(columns)))\n",
    "    return words, columns"
   ]
  },
  {
   "cell_type": "markdown",
   "metadata": {},
   "source": [
    "# Main Function"
   ]
  },
  {
   "cell_type": "code",
   "execution_count": 555,
   "metadata": {},
   "outputs": [],
   "source": [
    "words, column_list = combination_sequence(1)\n",
    "# print(column_list)"
   ]
  },
  {
   "cell_type": "markdown",
   "metadata": {},
   "source": [
    "### Word2Vec Implementation"
   ]
  },
  {
   "cell_type": "code",
   "execution_count": 603,
   "metadata": {},
   "outputs": [
    {
     "data": {
      "text/html": [
       "<div>\n",
       "<style scoped>\n",
       "    .dataframe tbody tr th:only-of-type {\n",
       "        vertical-align: middle;\n",
       "    }\n",
       "\n",
       "    .dataframe tbody tr th {\n",
       "        vertical-align: top;\n",
       "    }\n",
       "\n",
       "    .dataframe thead th {\n",
       "        text-align: right;\n",
       "    }\n",
       "</style>\n",
       "<table border=\"1\" class=\"dataframe\">\n",
       "  <thead>\n",
       "    <tr style=\"text-align: right;\">\n",
       "      <th></th>\n",
       "      <th>A</th>\n",
       "      <th>D</th>\n",
       "      <th>E</th>\n",
       "      <th>G</th>\n",
       "      <th>H</th>\n",
       "      <th>I</th>\n",
       "      <th>K</th>\n",
       "      <th>L</th>\n",
       "      <th>M</th>\n",
       "      <th>N</th>\n",
       "      <th>P</th>\n",
       "      <th>Q</th>\n",
       "      <th>R</th>\n",
       "      <th>S</th>\n",
       "      <th>T</th>\n",
       "      <th>V</th>\n",
       "      <th>Y</th>\n",
       "    </tr>\n",
       "  </thead>\n",
       "  <tbody>\n",
       "    <tr>\n",
       "      <th>A</th>\n",
       "      <td>1</td>\n",
       "      <td>NaN</td>\n",
       "      <td>0.052147</td>\n",
       "      <td>NaN</td>\n",
       "      <td>0.082688</td>\n",
       "      <td>NaN</td>\n",
       "      <td>0.050407</td>\n",
       "      <td>0.017615</td>\n",
       "      <td>0.179310</td>\n",
       "      <td>NaN</td>\n",
       "      <td>0.076533</td>\n",
       "      <td>NaN</td>\n",
       "      <td>-0.004085</td>\n",
       "      <td>NaN</td>\n",
       "      <td>0.140252</td>\n",
       "      <td>-0.005019</td>\n",
       "      <td>0.009754</td>\n",
       "    </tr>\n",
       "    <tr>\n",
       "      <th>D</th>\n",
       "      <td>NaN</td>\n",
       "      <td>1</td>\n",
       "      <td>0.170207</td>\n",
       "      <td>0.11165</td>\n",
       "      <td>NaN</td>\n",
       "      <td>0.0114697</td>\n",
       "      <td>NaN</td>\n",
       "      <td>-0.006987</td>\n",
       "      <td>0.050125</td>\n",
       "      <td>0.0656836</td>\n",
       "      <td>0.029257</td>\n",
       "      <td>0.1751</td>\n",
       "      <td>NaN</td>\n",
       "      <td>0.222894</td>\n",
       "      <td>0.052951</td>\n",
       "      <td>NaN</td>\n",
       "      <td>NaN</td>\n",
       "    </tr>\n",
       "    <tr>\n",
       "      <th>E</th>\n",
       "      <td>0.0521469</td>\n",
       "      <td>0.170207</td>\n",
       "      <td>1.000000</td>\n",
       "      <td>0.0428613</td>\n",
       "      <td>0.022216</td>\n",
       "      <td>0.0140188</td>\n",
       "      <td>NaN</td>\n",
       "      <td>0.060559</td>\n",
       "      <td>NaN</td>\n",
       "      <td>NaN</td>\n",
       "      <td>NaN</td>\n",
       "      <td>NaN</td>\n",
       "      <td>0.160274</td>\n",
       "      <td>0.0302015</td>\n",
       "      <td>0.031749</td>\n",
       "      <td>NaN</td>\n",
       "      <td>0.018562</td>\n",
       "    </tr>\n",
       "    <tr>\n",
       "      <th>G</th>\n",
       "      <td>NaN</td>\n",
       "      <td>0.11165</td>\n",
       "      <td>0.042861</td>\n",
       "      <td>1</td>\n",
       "      <td>NaN</td>\n",
       "      <td>NaN</td>\n",
       "      <td>0.001165</td>\n",
       "      <td>NaN</td>\n",
       "      <td>NaN</td>\n",
       "      <td>0.0162443</td>\n",
       "      <td>0.012662</td>\n",
       "      <td>NaN</td>\n",
       "      <td>0.177875</td>\n",
       "      <td>-0.0179841</td>\n",
       "      <td>0.145437</td>\n",
       "      <td>0.153015</td>\n",
       "      <td>0.255601</td>\n",
       "    </tr>\n",
       "    <tr>\n",
       "      <th>H</th>\n",
       "      <td>0.0826877</td>\n",
       "      <td>NaN</td>\n",
       "      <td>0.022216</td>\n",
       "      <td>NaN</td>\n",
       "      <td>1.000000</td>\n",
       "      <td>0.054625</td>\n",
       "      <td>0.048631</td>\n",
       "      <td>0.037640</td>\n",
       "      <td>NaN</td>\n",
       "      <td>-0.0142012</td>\n",
       "      <td>0.046084</td>\n",
       "      <td>NaN</td>\n",
       "      <td>0.211573</td>\n",
       "      <td>0.0391953</td>\n",
       "      <td>0.072455</td>\n",
       "      <td>NaN</td>\n",
       "      <td>NaN</td>\n",
       "    </tr>\n",
       "  </tbody>\n",
       "</table>\n",
       "</div>"
      ],
      "text/plain": [
       "           A         D         E          G         H          I         K  \\\n",
       "A          1       NaN  0.052147        NaN  0.082688        NaN  0.050407   \n",
       "D        NaN         1  0.170207    0.11165       NaN  0.0114697       NaN   \n",
       "E  0.0521469  0.170207  1.000000  0.0428613  0.022216  0.0140188       NaN   \n",
       "G        NaN   0.11165  0.042861          1       NaN        NaN  0.001165   \n",
       "H  0.0826877       NaN  0.022216        NaN  1.000000   0.054625  0.048631   \n",
       "\n",
       "          L         M          N         P       Q         R          S  \\\n",
       "A  0.017615  0.179310        NaN  0.076533     NaN -0.004085        NaN   \n",
       "D -0.006987  0.050125  0.0656836  0.029257  0.1751       NaN   0.222894   \n",
       "E  0.060559       NaN        NaN       NaN     NaN  0.160274  0.0302015   \n",
       "G       NaN       NaN  0.0162443  0.012662     NaN  0.177875 -0.0179841   \n",
       "H  0.037640       NaN -0.0142012  0.046084     NaN  0.211573  0.0391953   \n",
       "\n",
       "          T         V         Y  \n",
       "A  0.140252 -0.005019  0.009754  \n",
       "D  0.052951       NaN       NaN  \n",
       "E  0.031749       NaN  0.018562  \n",
       "G  0.145437  0.153015  0.255601  \n",
       "H  0.072455       NaN       NaN  "
      ]
     },
     "execution_count": 603,
     "metadata": {},
     "output_type": "execute_result"
    }
   ],
   "source": [
    "model = word2vec(words, win=3, count=1)\n",
    "df = vectorization(model, column_list)\n",
    "df.head()"
   ]
  },
  {
   "cell_type": "code",
   "execution_count": 604,
   "metadata": {},
   "outputs": [
    {
     "name": "stdout",
     "output_type": "stream",
     "text": [
      "[('I', 0.22430738806724548), ('D', 0.2228943109512329), ('V', 0.09849028289318085), ('Q', 0.09352164715528488), ('K', 0.08985263854265213), ('L', 0.07079657912254333), ('N', 0.05472324788570404), ('H', 0.039195336401462555), ('E', 0.030201522633433342), ('P', 0.003795277327299118)]\n",
      "\n",
      "\n",
      "Similarities between S and Y: -0.03352360427379608\n"
     ]
    }
   ],
   "source": [
    "print(model.wv.most_similar('S'))\n",
    "print(\"\\n\\nSimilarities between {} and {}: {}\".format('S', 'Y', model.wv.similarity(w1='S', w2='Y')))"
   ]
  },
  {
   "cell_type": "markdown",
   "metadata": {},
   "source": [
    "### FastText Implementation"
   ]
  },
  {
   "cell_type": "code",
   "execution_count": 605,
   "metadata": {},
   "outputs": [
    {
     "data": {
      "text/html": [
       "<div>\n",
       "<style scoped>\n",
       "    .dataframe tbody tr th:only-of-type {\n",
       "        vertical-align: middle;\n",
       "    }\n",
       "\n",
       "    .dataframe tbody tr th {\n",
       "        vertical-align: top;\n",
       "    }\n",
       "\n",
       "    .dataframe thead th {\n",
       "        text-align: right;\n",
       "    }\n",
       "</style>\n",
       "<table border=\"1\" class=\"dataframe\">\n",
       "  <thead>\n",
       "    <tr style=\"text-align: right;\">\n",
       "      <th></th>\n",
       "      <th>A</th>\n",
       "      <th>D</th>\n",
       "      <th>E</th>\n",
       "      <th>G</th>\n",
       "      <th>H</th>\n",
       "      <th>I</th>\n",
       "      <th>K</th>\n",
       "      <th>L</th>\n",
       "      <th>M</th>\n",
       "      <th>N</th>\n",
       "      <th>P</th>\n",
       "      <th>Q</th>\n",
       "      <th>R</th>\n",
       "      <th>S</th>\n",
       "      <th>T</th>\n",
       "      <th>V</th>\n",
       "      <th>Y</th>\n",
       "    </tr>\n",
       "  </thead>\n",
       "  <tbody>\n",
       "    <tr>\n",
       "      <th>A</th>\n",
       "      <td>1</td>\n",
       "      <td>NaN</td>\n",
       "      <td>0.027781</td>\n",
       "      <td>NaN</td>\n",
       "      <td>0.089372</td>\n",
       "      <td>0.050571</td>\n",
       "      <td>0.017507</td>\n",
       "      <td>0.024187</td>\n",
       "      <td>-0.011526</td>\n",
       "      <td>NaN</td>\n",
       "      <td>0.255207</td>\n",
       "      <td>0.080184</td>\n",
       "      <td>0.027909</td>\n",
       "      <td>NaN</td>\n",
       "      <td>0.136553</td>\n",
       "      <td>NaN</td>\n",
       "      <td>NaN</td>\n",
       "    </tr>\n",
       "    <tr>\n",
       "      <th>D</th>\n",
       "      <td>NaN</td>\n",
       "      <td>1</td>\n",
       "      <td>0.071162</td>\n",
       "      <td>0.250804</td>\n",
       "      <td>0.080937</td>\n",
       "      <td>NaN</td>\n",
       "      <td>0.052465</td>\n",
       "      <td>NaN</td>\n",
       "      <td>NaN</td>\n",
       "      <td>0.0882165</td>\n",
       "      <td>NaN</td>\n",
       "      <td>0.172613</td>\n",
       "      <td>0.069180</td>\n",
       "      <td>0.0305518</td>\n",
       "      <td>0.047187</td>\n",
       "      <td>0.0335818</td>\n",
       "      <td>NaN</td>\n",
       "    </tr>\n",
       "    <tr>\n",
       "      <th>E</th>\n",
       "      <td>0.0277813</td>\n",
       "      <td>0.0711623</td>\n",
       "      <td>1.000000</td>\n",
       "      <td>0.129586</td>\n",
       "      <td>0.054905</td>\n",
       "      <td>-0.019113</td>\n",
       "      <td>NaN</td>\n",
       "      <td>NaN</td>\n",
       "      <td>0.022034</td>\n",
       "      <td>NaN</td>\n",
       "      <td>NaN</td>\n",
       "      <td>0.125048</td>\n",
       "      <td>-0.000396</td>\n",
       "      <td>NaN</td>\n",
       "      <td>-0.000761</td>\n",
       "      <td>NaN</td>\n",
       "      <td>0.00213117</td>\n",
       "    </tr>\n",
       "    <tr>\n",
       "      <th>G</th>\n",
       "      <td>NaN</td>\n",
       "      <td>0.250804</td>\n",
       "      <td>0.129586</td>\n",
       "      <td>1</td>\n",
       "      <td>0.021499</td>\n",
       "      <td>0.149231</td>\n",
       "      <td>0.025469</td>\n",
       "      <td>NaN</td>\n",
       "      <td>NaN</td>\n",
       "      <td>NaN</td>\n",
       "      <td>0.013182</td>\n",
       "      <td>NaN</td>\n",
       "      <td>0.158943</td>\n",
       "      <td>NaN</td>\n",
       "      <td>0.223954</td>\n",
       "      <td>0.092773</td>\n",
       "      <td>0.116858</td>\n",
       "    </tr>\n",
       "    <tr>\n",
       "      <th>H</th>\n",
       "      <td>0.0893716</td>\n",
       "      <td>0.0809367</td>\n",
       "      <td>0.054905</td>\n",
       "      <td>NaN</td>\n",
       "      <td>1.000000</td>\n",
       "      <td>0.028436</td>\n",
       "      <td>0.148876</td>\n",
       "      <td>0.246249</td>\n",
       "      <td>0.038532</td>\n",
       "      <td>NaN</td>\n",
       "      <td>NaN</td>\n",
       "      <td>0.083931</td>\n",
       "      <td>0.159812</td>\n",
       "      <td>NaN</td>\n",
       "      <td>0.101453</td>\n",
       "      <td>NaN</td>\n",
       "      <td>NaN</td>\n",
       "    </tr>\n",
       "  </tbody>\n",
       "</table>\n",
       "</div>"
      ],
      "text/plain": [
       "           A          D         E         G         H         I         K  \\\n",
       "A          1        NaN  0.027781       NaN  0.089372  0.050571  0.017507   \n",
       "D        NaN          1  0.071162  0.250804  0.080937       NaN  0.052465   \n",
       "E  0.0277813  0.0711623  1.000000  0.129586  0.054905 -0.019113       NaN   \n",
       "G        NaN   0.250804  0.129586         1  0.021499  0.149231  0.025469   \n",
       "H  0.0893716  0.0809367  0.054905       NaN  1.000000  0.028436  0.148876   \n",
       "\n",
       "          L         M          N         P         Q         R          S  \\\n",
       "A  0.024187 -0.011526        NaN  0.255207  0.080184  0.027909        NaN   \n",
       "D       NaN       NaN  0.0882165       NaN  0.172613  0.069180  0.0305518   \n",
       "E       NaN  0.022034        NaN       NaN  0.125048 -0.000396        NaN   \n",
       "G       NaN       NaN        NaN  0.013182       NaN  0.158943        NaN   \n",
       "H  0.246249  0.038532        NaN       NaN  0.083931  0.159812        NaN   \n",
       "\n",
       "          T          V           Y  \n",
       "A  0.136553        NaN         NaN  \n",
       "D  0.047187  0.0335818         NaN  \n",
       "E -0.000761        NaN  0.00213117  \n",
       "G  0.223954   0.092773    0.116858  \n",
       "H  0.101453        NaN         NaN  "
      ]
     },
     "execution_count": 605,
     "metadata": {},
     "output_type": "execute_result"
    }
   ],
   "source": [
    "model = fasttext(words, win=3, count=1)\n",
    "df = vectorization(model, column_list)\n",
    "df.head()"
   ]
  },
  {
   "cell_type": "code",
   "execution_count": 606,
   "metadata": {},
   "outputs": [
    {
     "name": "stdout",
     "output_type": "stream",
     "text": [
      "[('I', 0.14272816479206085), ('L', 0.12876690924167633), ('V', 0.11846521496772766), ('T', 0.04452924802899361), ('Y', 0.042162515223026276), ('D', 0.03055178001523018), ('K', 0.018864385783672333), ('G', 0.0036773981992155313), ('N', -0.0011194890830665827), ('M', -0.006847509648650885)]\n",
      "\n",
      "\n",
      "Similarities between S and Y: 0.042162518948316574\n"
     ]
    }
   ],
   "source": [
    "print(model.wv.most_similar('S'))\n",
    "print(\"\\n\\nSimilarities between {} and {}: {}\".format('S', 'Y', model.wv.similarity(w1='S', w2='Y')))"
   ]
  },
  {
   "cell_type": "markdown",
   "metadata": {},
   "source": [
    "### Doc2Vec Implementation"
   ]
  },
  {
   "cell_type": "code",
   "execution_count": 607,
   "metadata": {},
   "outputs": [
    {
     "data": {
      "text/html": [
       "<div>\n",
       "<style scoped>\n",
       "    .dataframe tbody tr th:only-of-type {\n",
       "        vertical-align: middle;\n",
       "    }\n",
       "\n",
       "    .dataframe tbody tr th {\n",
       "        vertical-align: top;\n",
       "    }\n",
       "\n",
       "    .dataframe thead th {\n",
       "        text-align: right;\n",
       "    }\n",
       "</style>\n",
       "<table border=\"1\" class=\"dataframe\">\n",
       "  <thead>\n",
       "    <tr style=\"text-align: right;\">\n",
       "      <th></th>\n",
       "      <th>A</th>\n",
       "      <th>D</th>\n",
       "      <th>E</th>\n",
       "      <th>G</th>\n",
       "      <th>H</th>\n",
       "      <th>I</th>\n",
       "      <th>K</th>\n",
       "      <th>L</th>\n",
       "      <th>M</th>\n",
       "      <th>N</th>\n",
       "      <th>P</th>\n",
       "      <th>Q</th>\n",
       "      <th>R</th>\n",
       "      <th>S</th>\n",
       "      <th>T</th>\n",
       "      <th>V</th>\n",
       "      <th>Y</th>\n",
       "    </tr>\n",
       "  </thead>\n",
       "  <tbody>\n",
       "    <tr>\n",
       "      <th>A</th>\n",
       "      <td>1</td>\n",
       "      <td>NaN</td>\n",
       "      <td>0.053782</td>\n",
       "      <td>NaN</td>\n",
       "      <td>0.091795</td>\n",
       "      <td>NaN</td>\n",
       "      <td>0.055824</td>\n",
       "      <td>0.020446</td>\n",
       "      <td>0.178463</td>\n",
       "      <td>NaN</td>\n",
       "      <td>0.089823</td>\n",
       "      <td>0.009096</td>\n",
       "      <td>0.016190</td>\n",
       "      <td>NaN</td>\n",
       "      <td>0.146735</td>\n",
       "      <td>NaN</td>\n",
       "      <td>0.023635</td>\n",
       "    </tr>\n",
       "    <tr>\n",
       "      <th>D</th>\n",
       "      <td>NaN</td>\n",
       "      <td>1</td>\n",
       "      <td>0.163616</td>\n",
       "      <td>0.108655</td>\n",
       "      <td>NaN</td>\n",
       "      <td>0.00707399</td>\n",
       "      <td>NaN</td>\n",
       "      <td>-0.012058</td>\n",
       "      <td>0.047962</td>\n",
       "      <td>0.0664287</td>\n",
       "      <td>0.024621</td>\n",
       "      <td>0.175141</td>\n",
       "      <td>NaN</td>\n",
       "      <td>0.21766</td>\n",
       "      <td>0.050345</td>\n",
       "      <td>NaN</td>\n",
       "      <td>NaN</td>\n",
       "    </tr>\n",
       "    <tr>\n",
       "      <th>E</th>\n",
       "      <td>0.0537824</td>\n",
       "      <td>0.163616</td>\n",
       "      <td>1.000000</td>\n",
       "      <td>0.0376254</td>\n",
       "      <td>0.023407</td>\n",
       "      <td>NaN</td>\n",
       "      <td>NaN</td>\n",
       "      <td>0.054555</td>\n",
       "      <td>NaN</td>\n",
       "      <td>NaN</td>\n",
       "      <td>NaN</td>\n",
       "      <td>0.020108</td>\n",
       "      <td>0.164695</td>\n",
       "      <td>0.0351521</td>\n",
       "      <td>0.029370</td>\n",
       "      <td>NaN</td>\n",
       "      <td>0.021597</td>\n",
       "    </tr>\n",
       "    <tr>\n",
       "      <th>G</th>\n",
       "      <td>NaN</td>\n",
       "      <td>0.108655</td>\n",
       "      <td>0.037625</td>\n",
       "      <td>1</td>\n",
       "      <td>NaN</td>\n",
       "      <td>NaN</td>\n",
       "      <td>-0.002768</td>\n",
       "      <td>NaN</td>\n",
       "      <td>NaN</td>\n",
       "      <td>0.0189631</td>\n",
       "      <td>0.007150</td>\n",
       "      <td>NaN</td>\n",
       "      <td>0.170589</td>\n",
       "      <td>-0.0209639</td>\n",
       "      <td>0.141026</td>\n",
       "      <td>0.152621</td>\n",
       "      <td>0.254778</td>\n",
       "    </tr>\n",
       "    <tr>\n",
       "      <th>H</th>\n",
       "      <td>0.0917952</td>\n",
       "      <td>NaN</td>\n",
       "      <td>0.023407</td>\n",
       "      <td>NaN</td>\n",
       "      <td>1.000000</td>\n",
       "      <td>0.0553903</td>\n",
       "      <td>0.051316</td>\n",
       "      <td>0.032318</td>\n",
       "      <td>NaN</td>\n",
       "      <td>-0.00423818</td>\n",
       "      <td>0.053891</td>\n",
       "      <td>NaN</td>\n",
       "      <td>0.222756</td>\n",
       "      <td>0.0569123</td>\n",
       "      <td>0.074497</td>\n",
       "      <td>NaN</td>\n",
       "      <td>NaN</td>\n",
       "    </tr>\n",
       "  </tbody>\n",
       "</table>\n",
       "</div>"
      ],
      "text/plain": [
       "           A         D         E          G         H           I         K  \\\n",
       "A          1       NaN  0.053782        NaN  0.091795         NaN  0.055824   \n",
       "D        NaN         1  0.163616   0.108655       NaN  0.00707399       NaN   \n",
       "E  0.0537824  0.163616  1.000000  0.0376254  0.023407         NaN       NaN   \n",
       "G        NaN  0.108655  0.037625          1       NaN         NaN -0.002768   \n",
       "H  0.0917952       NaN  0.023407        NaN  1.000000   0.0553903  0.051316   \n",
       "\n",
       "          L         M           N         P         Q         R          S  \\\n",
       "A  0.020446  0.178463         NaN  0.089823  0.009096  0.016190        NaN   \n",
       "D -0.012058  0.047962   0.0664287  0.024621  0.175141       NaN    0.21766   \n",
       "E  0.054555       NaN         NaN       NaN  0.020108  0.164695  0.0351521   \n",
       "G       NaN       NaN   0.0189631  0.007150       NaN  0.170589 -0.0209639   \n",
       "H  0.032318       NaN -0.00423818  0.053891       NaN  0.222756  0.0569123   \n",
       "\n",
       "          T         V         Y  \n",
       "A  0.146735       NaN  0.023635  \n",
       "D  0.050345       NaN       NaN  \n",
       "E  0.029370       NaN  0.021597  \n",
       "G  0.141026  0.152621  0.254778  \n",
       "H  0.074497       NaN       NaN  "
      ]
     },
     "execution_count": 607,
     "metadata": {},
     "output_type": "execute_result"
    }
   ],
   "source": [
    "model = doc2vec(words, win=3, count=1)\n",
    "df = vectorization(model, column_list)\n",
    "df.head()"
   ]
  },
  {
   "cell_type": "code",
   "execution_count": 608,
   "metadata": {},
   "outputs": [
    {
     "name": "stdout",
     "output_type": "stream",
     "text": [
      "[('I', 0.2247517704963684), ('D', 0.21765977144241333), ('Q', 0.12032710760831833), ('V', 0.11342903226613998), ('K', 0.09980012476444244), ('N', 0.06943774968385696), ('L', 0.06745608150959015), ('H', 0.05691228806972504), ('E', 0.03515208885073662), ('P', 0.020192505791783333)]\n",
      "\n",
      "\n",
      "Similarities between S and Y: -0.018541643396019936\n"
     ]
    }
   ],
   "source": [
    "print(model.wv.most_similar('S'))\n",
    "print(\"\\n\\nSimilarities between {} and {}: {}\".format('S', 'Y', model.wv.similarity(w1='S', w2='Y')))"
   ]
  },
  {
   "cell_type": "markdown",
   "metadata": {},
   "source": [
    "### Bag of Words Implementation"
   ]
  },
  {
   "cell_type": "code",
   "execution_count": 699,
   "metadata": {},
   "outputs": [
    {
     "name": "stdout",
     "output_type": "stream",
     "text": [
      "[[('A', 6), ('E', 1), ('G', 1), ('H', 2), ('L', 1), ('M', 1), ('N', 1), ('P', 4), ('Q', 2), ('R', 6), ('S', 5), ('T', 1), ('V', 2)], [('A', 1), ('E', 3), ('G', 1), ('H', 3), ('L', 2), ('P', 2), ('Q', 1), ('R', 6), ('S', 4), ('T', 3), ('V', 1), ('D', 1), ('I', 3), ('K', 2)], [('E', 1), ('G', 4), ('H', 1), ('L', 1), ('P', 5), ('Q', 1), ('R', 3), ('S', 9), ('T', 3), ('I', 3), ('Y', 2)], [('A', 5), ('E', 1), ('G', 2), ('L', 1), ('M', 1), ('N', 1), ('P', 8), ('Q', 2), ('R', 2), ('S', 7), ('K', 2), ('Y', 1)]]\n"
     ]
    }
   ],
   "source": [
    "dictionary = Dictionary()\n",
    "BoW_corpus = [dictionary.doc2bow(doc, allow_update=True) for doc in words]\n",
    "# print(BoW_corpus)\n",
    "id_words = [[(dictionary[id], count) for id, count in line] for line in BoW_corpus]\n",
    "print(id_words)"
   ]
  },
  {
   "cell_type": "markdown",
   "metadata": {},
   "source": [
    "### TFIDF"
   ]
  },
  {
   "cell_type": "code",
   "execution_count": 700,
   "metadata": {},
   "outputs": [
    {
     "name": "stdout",
     "output_type": "stream",
     "text": [
      "[[('A', 0.6890098285715666), ('H', 0.22966994285718884), ('M', 0.27668577328103633), ('N', 0.27668577328103633), ('T', 0.11483497142859442), ('V', 0.5533715465620727)], [('A', 0.08998587240483427), ('H', 0.2699576172145028), ('T', 0.2699576172145028), ('V', 0.21681383624658238), ('D', 0.43362767249316475), ('I', 0.6504415087397472), ('K', 0.43362767249316475)], [('H', 0.10816721615936337), ('T', 0.3245016484780901), ('I', 0.7818610343449305), ('Y', 0.5212406895632871)], [('A', 0.6171562174941082), ('M', 0.2973978103503706), ('N', 0.2973978103503706), ('K', 0.5947956207007412), ('Y', 0.2973978103503706)]]\n"
     ]
    }
   ],
   "source": [
    "model = TfidfModel(BoW_corpus)  # fit model\n",
    "vector = model[BoW_corpus]  # apply model to the first corpus document\n",
    "        \n",
    "id_words = [[(dictionary[id], count) for id, count in line] for line in vector]\n",
    "print(id_words)"
   ]
  },
  {
   "cell_type": "code",
   "execution_count": null,
   "metadata": {},
   "outputs": [],
   "source": []
  },
  {
   "cell_type": "code",
   "execution_count": null,
   "metadata": {},
   "outputs": [],
   "source": []
  }
 ],
 "metadata": {
  "kernelspec": {
   "display_name": "Python 3",
   "language": "python",
   "name": "python3"
  },
  "language_info": {
   "codemirror_mode": {
    "name": "ipython",
    "version": 3
   },
   "file_extension": ".py",
   "mimetype": "text/x-python",
   "name": "python",
   "nbconvert_exporter": "python",
   "pygments_lexer": "ipython3",
   "version": "3.7.3"
  }
 },
 "nbformat": 4,
 "nbformat_minor": 4
}
